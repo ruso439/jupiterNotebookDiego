{
 "cells": [
  {
   "cell_type": "markdown",
   "metadata": {
    "id": "DP0A6ekEuGLs"
   },
   "source": [
    "<div align=\"left\">\n",
    "<img src=\"https://uploads-ssl.webflow.com/5f4d2915aacbff8a3255cf1b/60b68f6a34b2e95700900f3b_coderhouse-logo.svg\" height=50>\n",
    "</div>"
   ]
  },
  {
   "cell_type": "markdown",
   "metadata": {
    "id": "CPEfl6Glvp6T"
   },
   "source": [
    "# Proyecto Data Science \"Salarios de los cientificos de datos\""
   ]
  },
  {
   "cell_type": "markdown",
   "metadata": {
    "id": "gyyYiQzewGIE"
   },
   "source": [
    "## Abstract"
   ]
  },
  {
   "cell_type": "markdown",
   "metadata": {
    "id": "drCFt2J-wOLq"
   },
   "source": [
    "El dataset seleccionado para este análisis contiene información sobre empleos, salarios y características relacionadas con el trabajo en la industria tecnológica. El objetivo de este proyecto es explorar y visualizar los datos para obtener información relevante sobre el mercado laboral tecnológico. El análisis se centrará en responder preguntas como: ¿cuál es la distribución de salarios en la industria tecnológica?, ¿qué niveles de experiencia son más comunes?, ¿existe alguna relación entre el tamaño de la empresa y el salario?, entre otras.\n",
    "\n",
    "Preguntas e hipótesis de interés:\n",
    "\n",
    "1)¿Cuál es la distribución de los salarios en la industria tecnológica? Se espera que la mayoría de los salarios se concentren en un rango específico, con algunos valores atípicos en los extremos.\n",
    "\n",
    "2)¿Existe alguna relación entre el nivel de experiencia y el salario? Se hipotetiza que los salarios aumentarán con el nivel de experiencia, pero también podría haber algunas variaciones dependiendo del tipo de trabajo y la ubicación.\n",
    "\n",
    "3)¿Cómo se compara el tamaño de la empresa con los salarios? Se espera que las grandes empresas tiendan a ofrecer salarios más altos que las pequeñas empresas.\n",
    "\n",
    "Visualizaciones y resúmenes numéricos:\n",
    "Para responder a las preguntas planteadas, se generarán las siguientes visualizaciones y resúmenes numéricos:\n",
    "\n",
    "Visualización univariada: Se creará un histograma de los salarios para mostrar su distribución en la industria tecnológica.\n",
    "\n",
    "Visualización bivariada: Se graficará un boxplot para comparar los salarios según el nivel de experiencia y se calcularán las medianas de salario para cada nivel.\n",
    "\n",
    "Visualización bivariada: Se utilizará un gráfico de barras para mostrar la relación entre el tamaño de la empresa y los salarios promedio.\n",
    "\n",
    "Visualización multivariada: Se creará una matriz de correlación para analizar las relaciones entre las variables numéricas y detectar posibles patrones o dependencias.\n",
    "\n",
    "Resúmenes numéricos: Se calcularán estadísticas descriptivas como la media, mediana y desviación estándar de los salarios, y se compararán según diferentes categorías.\n",
    "\n",
    "Con estas visualizaciones y resúmenes numéricos, se podrá obtener una visión general de las tendencias y patrones en el mercado laboral tecnológico, lo que permitirá obtener información valiosa para la toma de decisiones y la planificación de carreras en esta industria."
   ]
  },
  {
   "cell_type": "markdown",
   "metadata": {
    "id": "fID0-lADyVDB"
   },
   "source": [
    "# Dataset"
   ]
  },
  {
   "cell_type": "code",
   "execution_count": 2,
   "metadata": {
    "colab": {
     "base_uri": "https://localhost:8080/"
    },
    "id": "mCOwF30RyZG0",
    "outputId": "5cb438cf-1145-4cc3-9f20-d3bf9b7b20ac"
   },
   "outputs": [
    {
     "name": "stdout",
     "output_type": "stream",
     "text": [
      "<class 'pandas.core.frame.DataFrame'>\n",
      "RangeIndex: 3755 entries, 0 to 3754\n",
      "Data columns (total 11 columns):\n",
      " #   Column              Non-Null Count  Dtype \n",
      "---  ------              --------------  ----- \n",
      " 0   work_year           3755 non-null   int64 \n",
      " 1   experience_level    3755 non-null   object\n",
      " 2   employment_type     3755 non-null   object\n",
      " 3   job_title           3755 non-null   object\n",
      " 4   salary              3755 non-null   int64 \n",
      " 5   salary_currency     3755 non-null   object\n",
      " 6   salary_in_usd       3755 non-null   int64 \n",
      " 7   employee_residence  3755 non-null   object\n",
      " 8   remote_ratio        3755 non-null   int64 \n",
      " 9   company_location    3755 non-null   object\n",
      " 10  company_size        3755 non-null   object\n",
      "dtypes: int64(4), object(7)\n",
      "memory usage: 322.8+ KB\n",
      "None\n"
     ]
    }
   ],
   "source": [
    "# Importación de librerías\n",
    "import pandas as pd\n",
    "import numpy as np\n",
    "import matplotlib.pyplot as plt\n",
    "import seaborn as sns\n",
    "\n",
    "# Carga del dataset\n",
    "url = 'https://docs.google.com/spreadsheets/d/1M9bs_WX81o8vfXZXVJfS0o9kCEqDDEMe86McVsDkQh0/export?format=csv'\n",
    "df = pd.read_csv(url)\n",
    "\n",
    "# Resumen general del dataset\n",
    "print(df.info())\n",
    "\n"
   ]
  },
  {
   "cell_type": "code",
   "execution_count": 3,
   "metadata": {
    "colab": {
     "base_uri": "https://localhost:8080/"
    },
    "id": "ZjGXPzMKqK_O",
    "outputId": "db7093ff-960b-4f75-8158-6f8dc5c480e4"
   },
   "outputs": [
    {
     "name": "stdout",
     "output_type": "stream",
     "text": [
      "<class 'pandas.core.series.Series'>\n",
      "RangeIndex: 3755 entries, 0 to 3754\n",
      "Series name: salary\n",
      "Non-Null Count  Dtype\n",
      "--------------  -----\n",
      "3755 non-null   int64\n",
      "dtypes: int64(1)\n",
      "memory usage: 29.5 KB\n"
     ]
    }
   ],
   "source": [
    "df['salary'].info()"
   ]
  },
  {
   "cell_type": "code",
   "execution_count": 4,
   "metadata": {
    "colab": {
     "base_uri": "https://localhost:8080/"
    },
    "id": "0S4e64z3HpSJ",
    "outputId": "874c6d08-250d-4a94-e118-cd56d730645e"
   },
   "outputs": [
    {
     "name": "stdout",
     "output_type": "stream",
     "text": [
      "<class 'pandas.core.frame.DataFrame'>\n",
      "RangeIndex: 3755 entries, 0 to 3754\n",
      "Data columns (total 16 columns):\n",
      " #   Column                   Non-Null Count  Dtype   \n",
      "---  ------                   --------------  -----   \n",
      " 0   work_year                3755 non-null   int64   \n",
      " 1   experience_level         3755 non-null   object  \n",
      " 2   employment_type          3755 non-null   object  \n",
      " 3   job_title                3755 non-null   object  \n",
      " 4   salary                   3755 non-null   int64   \n",
      " 5   salary_currency          3755 non-null   object  \n",
      " 6   salary_in_usd            3755 non-null   int64   \n",
      " 7   employee_residence       3755 non-null   object  \n",
      " 8   remote_ratio             3755 non-null   int64   \n",
      " 9   company_location         3755 non-null   object  \n",
      " 10  company_size             0 non-null      float64 \n",
      " 11  salary_usd_to_eur        3755 non-null   float64 \n",
      " 12  salary_usd_to_gbp        3755 non-null   float64 \n",
      " 13  salary_range             3692 non-null   category\n",
      " 14  remote_ratio_percentage  3755 non-null   float64 \n",
      " 15  company_size_category    0 non-null      category\n",
      "dtypes: category(2), float64(4), int64(4), object(6)\n",
      "memory usage: 418.6+ KB\n",
      "None\n"
     ]
    }
   ],
   "source": [
    "# Conversión de salario a diferentes monedas\n",
    "df['salary_usd_to_eur'] = df['salary_in_usd'] * 0.85\n",
    "df['salary_usd_to_gbp'] = df['salary_in_usd'] * 0.75\n",
    "\n",
    "# Categorización de salarios en rangos\n",
    "bins = [0, 30000, 50000, 80000, 120000, 200000, 500000]\n",
    "labels = ['0-30K', '30K-50K', '50K-80K', '80K-120K', '120K-200K', '200K+']\n",
    "df['salary_range'] = pd.cut(df['salary'], bins=bins, labels=labels)\n",
    "\n",
    "# Proporción de trabajo remoto\n",
    "df['remote_ratio_percentage'] = df['remote_ratio'] / 100\n",
    "\n",
    "# Convertir valores no numéricos del tamaño de empresa a valores numéricos\n",
    "size_mapping = {'Pequeña': 1, 'Mediana': 2, 'Grande': 3, 'Muy Grande': 4}\n",
    "df['company_size'] = df['company_size'].map(size_mapping)\n",
    "\n",
    "# Categorización del tamaño de la empresa\n",
    "df['company_size_category'] = pd.cut(df['company_size'], bins=[0, 1, 2, 3, float('inf')], labels=['Pequeña', 'Mediana', 'Grande', 'Muy Grande'])\n",
    "\n",
    "# Verificación de las 15 columnas\n",
    "print(df.info())\n",
    "\n",
    "# Guardar el nuevo dataset con 15 columnas\n",
    "df.to_csv('dataset_extended.csv', index=False)\n"
   ]
  },
  {
   "cell_type": "code",
   "execution_count": 7,
   "metadata": {},
   "outputs": [
    {
     "data": {
      "text/html": [
       "<div>\n",
       "<style scoped>\n",
       "    .dataframe tbody tr th:only-of-type {\n",
       "        vertical-align: middle;\n",
       "    }\n",
       "\n",
       "    .dataframe tbody tr th {\n",
       "        vertical-align: top;\n",
       "    }\n",
       "\n",
       "    .dataframe thead th {\n",
       "        text-align: right;\n",
       "    }\n",
       "</style>\n",
       "<table border=\"1\" class=\"dataframe\">\n",
       "  <thead>\n",
       "    <tr style=\"text-align: right;\">\n",
       "      <th></th>\n",
       "      <th>work_year</th>\n",
       "      <th>experience_level</th>\n",
       "      <th>employment_type</th>\n",
       "      <th>job_title</th>\n",
       "      <th>salary</th>\n",
       "      <th>salary_currency</th>\n",
       "      <th>salary_in_usd</th>\n",
       "      <th>employee_residence</th>\n",
       "      <th>remote_ratio</th>\n",
       "      <th>company_location</th>\n",
       "      <th>company_size</th>\n",
       "      <th>salary_usd_to_eur</th>\n",
       "      <th>salary_usd_to_gbp</th>\n",
       "      <th>salary_range</th>\n",
       "      <th>remote_ratio_percentage</th>\n",
       "      <th>company_size_category</th>\n",
       "    </tr>\n",
       "  </thead>\n",
       "  <tbody>\n",
       "    <tr>\n",
       "      <th>0</th>\n",
       "      <td>2023</td>\n",
       "      <td>SE</td>\n",
       "      <td>FT</td>\n",
       "      <td>Principal Data Scientist</td>\n",
       "      <td>80000</td>\n",
       "      <td>EUR</td>\n",
       "      <td>85847</td>\n",
       "      <td>ES</td>\n",
       "      <td>100</td>\n",
       "      <td>ES</td>\n",
       "      <td>NaN</td>\n",
       "      <td>72969.95</td>\n",
       "      <td>64385.25</td>\n",
       "      <td>50K-80K</td>\n",
       "      <td>1.0</td>\n",
       "      <td>NaN</td>\n",
       "    </tr>\n",
       "    <tr>\n",
       "      <th>1</th>\n",
       "      <td>2023</td>\n",
       "      <td>MI</td>\n",
       "      <td>CT</td>\n",
       "      <td>ML Engineer</td>\n",
       "      <td>30000</td>\n",
       "      <td>USD</td>\n",
       "      <td>30000</td>\n",
       "      <td>US</td>\n",
       "      <td>100</td>\n",
       "      <td>US</td>\n",
       "      <td>NaN</td>\n",
       "      <td>25500.00</td>\n",
       "      <td>22500.00</td>\n",
       "      <td>0-30K</td>\n",
       "      <td>1.0</td>\n",
       "      <td>NaN</td>\n",
       "    </tr>\n",
       "    <tr>\n",
       "      <th>2</th>\n",
       "      <td>2023</td>\n",
       "      <td>MI</td>\n",
       "      <td>CT</td>\n",
       "      <td>ML Engineer</td>\n",
       "      <td>25500</td>\n",
       "      <td>USD</td>\n",
       "      <td>25500</td>\n",
       "      <td>US</td>\n",
       "      <td>100</td>\n",
       "      <td>US</td>\n",
       "      <td>NaN</td>\n",
       "      <td>21675.00</td>\n",
       "      <td>19125.00</td>\n",
       "      <td>0-30K</td>\n",
       "      <td>1.0</td>\n",
       "      <td>NaN</td>\n",
       "    </tr>\n",
       "    <tr>\n",
       "      <th>3</th>\n",
       "      <td>2023</td>\n",
       "      <td>SE</td>\n",
       "      <td>FT</td>\n",
       "      <td>Data Scientist</td>\n",
       "      <td>175000</td>\n",
       "      <td>USD</td>\n",
       "      <td>175000</td>\n",
       "      <td>CA</td>\n",
       "      <td>100</td>\n",
       "      <td>CA</td>\n",
       "      <td>NaN</td>\n",
       "      <td>148750.00</td>\n",
       "      <td>131250.00</td>\n",
       "      <td>120K-200K</td>\n",
       "      <td>1.0</td>\n",
       "      <td>NaN</td>\n",
       "    </tr>\n",
       "    <tr>\n",
       "      <th>4</th>\n",
       "      <td>2023</td>\n",
       "      <td>SE</td>\n",
       "      <td>FT</td>\n",
       "      <td>Data Scientist</td>\n",
       "      <td>120000</td>\n",
       "      <td>USD</td>\n",
       "      <td>120000</td>\n",
       "      <td>CA</td>\n",
       "      <td>100</td>\n",
       "      <td>CA</td>\n",
       "      <td>NaN</td>\n",
       "      <td>102000.00</td>\n",
       "      <td>90000.00</td>\n",
       "      <td>80K-120K</td>\n",
       "      <td>1.0</td>\n",
       "      <td>NaN</td>\n",
       "    </tr>\n",
       "    <tr>\n",
       "      <th>...</th>\n",
       "      <td>...</td>\n",
       "      <td>...</td>\n",
       "      <td>...</td>\n",
       "      <td>...</td>\n",
       "      <td>...</td>\n",
       "      <td>...</td>\n",
       "      <td>...</td>\n",
       "      <td>...</td>\n",
       "      <td>...</td>\n",
       "      <td>...</td>\n",
       "      <td>...</td>\n",
       "      <td>...</td>\n",
       "      <td>...</td>\n",
       "      <td>...</td>\n",
       "      <td>...</td>\n",
       "      <td>...</td>\n",
       "    </tr>\n",
       "    <tr>\n",
       "      <th>3750</th>\n",
       "      <td>2020</td>\n",
       "      <td>SE</td>\n",
       "      <td>FT</td>\n",
       "      <td>Data Scientist</td>\n",
       "      <td>412000</td>\n",
       "      <td>USD</td>\n",
       "      <td>412000</td>\n",
       "      <td>US</td>\n",
       "      <td>100</td>\n",
       "      <td>US</td>\n",
       "      <td>NaN</td>\n",
       "      <td>350200.00</td>\n",
       "      <td>309000.00</td>\n",
       "      <td>200K+</td>\n",
       "      <td>1.0</td>\n",
       "      <td>NaN</td>\n",
       "    </tr>\n",
       "    <tr>\n",
       "      <th>3751</th>\n",
       "      <td>2021</td>\n",
       "      <td>MI</td>\n",
       "      <td>FT</td>\n",
       "      <td>Principal Data Scientist</td>\n",
       "      <td>151000</td>\n",
       "      <td>USD</td>\n",
       "      <td>151000</td>\n",
       "      <td>US</td>\n",
       "      <td>100</td>\n",
       "      <td>US</td>\n",
       "      <td>NaN</td>\n",
       "      <td>128350.00</td>\n",
       "      <td>113250.00</td>\n",
       "      <td>120K-200K</td>\n",
       "      <td>1.0</td>\n",
       "      <td>NaN</td>\n",
       "    </tr>\n",
       "    <tr>\n",
       "      <th>3752</th>\n",
       "      <td>2020</td>\n",
       "      <td>EN</td>\n",
       "      <td>FT</td>\n",
       "      <td>Data Scientist</td>\n",
       "      <td>105000</td>\n",
       "      <td>USD</td>\n",
       "      <td>105000</td>\n",
       "      <td>US</td>\n",
       "      <td>100</td>\n",
       "      <td>US</td>\n",
       "      <td>NaN</td>\n",
       "      <td>89250.00</td>\n",
       "      <td>78750.00</td>\n",
       "      <td>80K-120K</td>\n",
       "      <td>1.0</td>\n",
       "      <td>NaN</td>\n",
       "    </tr>\n",
       "    <tr>\n",
       "      <th>3753</th>\n",
       "      <td>2020</td>\n",
       "      <td>EN</td>\n",
       "      <td>CT</td>\n",
       "      <td>Business Data Analyst</td>\n",
       "      <td>100000</td>\n",
       "      <td>USD</td>\n",
       "      <td>100000</td>\n",
       "      <td>US</td>\n",
       "      <td>100</td>\n",
       "      <td>US</td>\n",
       "      <td>NaN</td>\n",
       "      <td>85000.00</td>\n",
       "      <td>75000.00</td>\n",
       "      <td>80K-120K</td>\n",
       "      <td>1.0</td>\n",
       "      <td>NaN</td>\n",
       "    </tr>\n",
       "    <tr>\n",
       "      <th>3754</th>\n",
       "      <td>2021</td>\n",
       "      <td>SE</td>\n",
       "      <td>FT</td>\n",
       "      <td>Data Science Manager</td>\n",
       "      <td>7000000</td>\n",
       "      <td>INR</td>\n",
       "      <td>94665</td>\n",
       "      <td>IN</td>\n",
       "      <td>50</td>\n",
       "      <td>IN</td>\n",
       "      <td>NaN</td>\n",
       "      <td>80465.25</td>\n",
       "      <td>70998.75</td>\n",
       "      <td>NaN</td>\n",
       "      <td>0.5</td>\n",
       "      <td>NaN</td>\n",
       "    </tr>\n",
       "  </tbody>\n",
       "</table>\n",
       "<p>3755 rows × 16 columns</p>\n",
       "</div>"
      ],
      "text/plain": [
       "      work_year experience_level employment_type                 job_title  \\\n",
       "0          2023               SE              FT  Principal Data Scientist   \n",
       "1          2023               MI              CT               ML Engineer   \n",
       "2          2023               MI              CT               ML Engineer   \n",
       "3          2023               SE              FT            Data Scientist   \n",
       "4          2023               SE              FT            Data Scientist   \n",
       "...         ...              ...             ...                       ...   \n",
       "3750       2020               SE              FT            Data Scientist   \n",
       "3751       2021               MI              FT  Principal Data Scientist   \n",
       "3752       2020               EN              FT            Data Scientist   \n",
       "3753       2020               EN              CT     Business Data Analyst   \n",
       "3754       2021               SE              FT      Data Science Manager   \n",
       "\n",
       "       salary salary_currency  salary_in_usd employee_residence  remote_ratio  \\\n",
       "0       80000             EUR          85847                 ES           100   \n",
       "1       30000             USD          30000                 US           100   \n",
       "2       25500             USD          25500                 US           100   \n",
       "3      175000             USD         175000                 CA           100   \n",
       "4      120000             USD         120000                 CA           100   \n",
       "...       ...             ...            ...                ...           ...   \n",
       "3750   412000             USD         412000                 US           100   \n",
       "3751   151000             USD         151000                 US           100   \n",
       "3752   105000             USD         105000                 US           100   \n",
       "3753   100000             USD         100000                 US           100   \n",
       "3754  7000000             INR          94665                 IN            50   \n",
       "\n",
       "     company_location  company_size  salary_usd_to_eur  salary_usd_to_gbp  \\\n",
       "0                  ES           NaN           72969.95           64385.25   \n",
       "1                  US           NaN           25500.00           22500.00   \n",
       "2                  US           NaN           21675.00           19125.00   \n",
       "3                  CA           NaN          148750.00          131250.00   \n",
       "4                  CA           NaN          102000.00           90000.00   \n",
       "...               ...           ...                ...                ...   \n",
       "3750               US           NaN          350200.00          309000.00   \n",
       "3751               US           NaN          128350.00          113250.00   \n",
       "3752               US           NaN           89250.00           78750.00   \n",
       "3753               US           NaN           85000.00           75000.00   \n",
       "3754               IN           NaN           80465.25           70998.75   \n",
       "\n",
       "     salary_range  remote_ratio_percentage company_size_category  \n",
       "0         50K-80K                      1.0                   NaN  \n",
       "1           0-30K                      1.0                   NaN  \n",
       "2           0-30K                      1.0                   NaN  \n",
       "3       120K-200K                      1.0                   NaN  \n",
       "4        80K-120K                      1.0                   NaN  \n",
       "...           ...                      ...                   ...  \n",
       "3750        200K+                      1.0                   NaN  \n",
       "3751    120K-200K                      1.0                   NaN  \n",
       "3752     80K-120K                      1.0                   NaN  \n",
       "3753     80K-120K                      1.0                   NaN  \n",
       "3754          NaN                      0.5                   NaN  \n",
       "\n",
       "[3755 rows x 16 columns]"
      ]
     },
     "execution_count": 7,
     "metadata": {},
     "output_type": "execute_result"
    }
   ],
   "source": [
    "df"
   ]
  },
  {
   "cell_type": "code",
   "execution_count": null,
   "metadata": {},
   "outputs": [],
   "source": []
  },
  {
   "cell_type": "code",
   "execution_count": 10,
   "metadata": {
    "colab": {
     "base_uri": "https://localhost:8080/"
    },
    "id": "GACl67rEzQ_n",
    "outputId": "3395562a-b3b7-40a4-a904-225b10a9a5a5"
   },
   "outputs": [
    {
     "name": "stdout",
     "output_type": "stream",
     "text": [
      "count      3755.000000\n",
      "mean     137570.389880\n",
      "std       63055.625278\n",
      "min        5132.000000\n",
      "25%       95000.000000\n",
      "50%      135000.000000\n",
      "75%      175000.000000\n",
      "max      450000.000000\n",
      "Name: salary_in_usd, dtype: float64\n"
     ]
    }
   ],
   "source": [
    "# Resumen estadístico de los salarios\n",
    "print(df['salary_in_usd'].describe())"
   ]
  },
  {
   "cell_type": "code",
   "execution_count": 9,
   "metadata": {
    "colab": {
     "base_uri": "https://localhost:8080/",
     "height": 488
    },
    "id": "wNA6ye7tzWnS",
    "outputId": "c4d81d1a-8bf8-427d-fd01-ef8d90c0a035"
   },
   "outputs": [
    {
     "data": {
      "image/png": "[encoded data removed]",
      "text/plain": [
       "<Figure size 800x500 with 1 Axes>"
      ]
     },
     "metadata": {},
     "output_type": "display_data"
    }
   ],
   "source": [
    "# Visualización univariada: Histograma de salarios\n",
    "plt.figure(figsize=(8, 5))\n",
    "plt.hist(df['salary_in_usd'], color='skyblue', edgecolor='black')\n",
    "plt.xlabel('Salario')\n",
    "plt.ylabel('Frecuencia')\n",
    "plt.title('Distribución de salarios en la industria tecnológica')\n",
    "plt.show()"
   ]
  },
  {
   "cell_type": "code",
   "execution_count": 11,
   "metadata": {
    "colab": {
     "base_uri": "https://localhost:8080/",
     "height": 488
    },
    "id": "lQKDref4zilk",
    "outputId": "e8f09dcd-a0d9-4612-8992-97977972f8ea"
   },
   "outputs": [
    {
     "data": {
      "image/png": "[encoded data removed]",
      "text/plain": [
       "<Figure size 800x500 with 1 Axes>"
      ]
     },
     "metadata": {},
     "output_type": "display_data"
    }
   ],
   "source": [
    "# Visualización bivariada: Boxplot de salarios según el nivel de experiencia\n",
    "plt.figure(figsize=(8, 5))\n",
    "sns.boxplot(x='experience_level', y='salary_in_usd', data=df)\n",
    "plt.xlabel('Nivel de Experiencia')\n",
    "plt.ylabel('Salario')\n",
    "plt.title('Distribución de salarios según el nivel de experiencia')\n",
    "plt.show()"
   ]
  },
  {
   "cell_type": "code",
   "execution_count": 12,
   "metadata": {
    "colab": {
     "base_uri": "https://localhost:8080/"
    },
    "id": "npew9J96zq7N",
    "outputId": "9197cce8-ece7-43c0-fef4-cec829e331cb"
   },
   "outputs": [
    {
     "name": "stdout",
     "output_type": "stream",
     "text": [
      "experience_level\n",
      "EN     80000.0\n",
      "EX    200000.0\n",
      "MI    100000.0\n",
      "SE    148000.0\n",
      "Name: salary, dtype: float64\n"
     ]
    }
   ],
   "source": [
    "# Calcular medianas de salario según el nivel de experiencia\n",
    "median_salaries = df.groupby('experience_level')['salary'].median()\n",
    "print(median_salaries)"
   ]
  },
  {
   "cell_type": "code",
   "execution_count": 29,
   "metadata": {
    "colab": {
     "base_uri": "https://localhost:8080/",
     "height": 589
    },
    "id": "FooBD2kezvoF",
    "outputId": "4e2a1287-249b-48a7-9158-8e56b2ef6bbb"
   },
   "outputs": [
    {
     "name": "stderr",
     "output_type": "stream",
     "text": [
      "<ipython-input-29-d33236c07e7b>:2: FutureWarning: The frame.append method is deprecated and will be removed from pandas in a future version. Use pandas.concat instead.\n",
      "  df = df.append({'company_size': 'small', 'salary': 50000}, ignore_index=True)\n",
      "<ipython-input-29-d33236c07e7b>:3: FutureWarning: The frame.append method is deprecated and will be removed from pandas in a future version. Use pandas.concat instead.\n",
      "  df = df.append({'company_size': 'medium', 'salary': 100000}, ignore_index=True)\n",
      "<ipython-input-29-d33236c07e7b>:4: FutureWarning: The frame.append method is deprecated and will be removed from pandas in a future version. Use pandas.concat instead.\n",
      "  df = df.append({'company_size': 'large', 'salary': 150000}, ignore_index=True)\n"
     ]
    },
    {
     "data": {
      "image/png": "[encoded data removed]",
      "text/plain": [
       "<Figure size 800x500 with 1 Axes>"
      ]
     },
     "metadata": {},
     "output_type": "display_data"
    }
   ],
   "source": [
    "# Agrego datos al DataFrame\n",
    "df = df.append({'company_size': 'small', 'salary': 50000}, ignore_index=True)\n",
    "df = df.append({'company_size': 'medium', 'salary': 100000}, ignore_index=True)\n",
    "df = df.append({'company_size': 'large', 'salary': 150000}, ignore_index=True)\n",
    "\n",
    "# Agrupo por tamaño de empresa y calcular el salario promedio\n",
    "df_grouped = df.groupby('company_size')['salary'].mean().reset_index()\n",
    "\n",
    "# Visualización bivariada: Gráfico de barras de salarios promedio según el tamaño de la empresa\n",
    "plt.figure(figsize=(8, 5))\n",
    "sns.barplot(x='company_size', y='salary', data=df_grouped, estimator=np.mean)\n",
    "plt.xlabel('Tamaño de la Empresa')\n",
    "plt.ylabel('Salario Promedio')\n",
    "plt.show()"
   ]
  },
  {
   "cell_type": "markdown",
   "metadata": {
    "id": "q7hHFsxoy57p"
   },
   "source": [
    "## Hipótesis - Preguntas relevantes"
   ]
  },
  {
   "cell_type": "markdown",
   "metadata": {
    "id": "pV33awlCzA7Z"
   },
   "source": [
    ">Hipótesis 1: Las personas con más experiencia tienden a ganar más dinero.\n",
    "\n",
    ">Hipótesis 2: Las personas con más educación tienden a ganar más dinero.\n",
    "\n",
    "> Pregunta 1: Cuáles son las variables más correlacionadas con el nivel de ingresos en un DS?\n",
    "\n",
    "> Pregunta 2: Tiene que ver el tamaño de la  empresa con el nivel de ingresos del DS?"
   ]
  },
  {
   "cell_type": "markdown",
   "metadata": {
    "id": "N1W4VBbQz4bX"
   },
   "source": [
    "#### Gráfica Matriz de correlación"
   ]
  },
  {
   "cell_type": "code",
   "execution_count": 30,
   "metadata": {
    "colab": {
     "base_uri": "https://localhost:8080/",
     "height": 751
    },
    "id": "WwU9XyB8d6ja",
    "outputId": "1f8b06ec-c171-4861-cb8b-3d65599202d6"
   },
   "outputs": [
    {
     "name": "stderr",
     "output_type": "stream",
     "text": [
      "<ipython-input-30-d4642042b910>:2: FutureWarning: The default value of numeric_only in DataFrame.corr is deprecated. In a future version, it will default to False. Select only valid columns or specify the value of numeric_only to silence this warning.\n",
      "  correlation_matrix = df.corr()\n"
     ]
    },
    {
     "data": {
      "image/png": "[encoded data removed]",
      "text/plain": [
       "<Figure size 1000x800 with 2 Axes>"
      ]
     },
     "metadata": {},
     "output_type": "display_data"
    }
   ],
   "source": [
    "# Visualización multivariada\n",
    "correlation_matrix = df.corr()\n",
    "plt.figure(figsize=(10, 8))\n",
    "sns.heatmap(correlation_matrix, annot=True, cmap='coolwarm', fmt='.2f', linewidths=0.5)\n",
    "plt.title('Matriz de correlación')\n",
    "plt.show()"
   ]
  },
  {
   "cell_type": "code",
   "execution_count": 2,
   "metadata": {},
   "outputs": [
    {
     "data": {
      "application/vnd.jupyter.widget-view+json": {
       "model_id": "d4fd46c990be47eeab280daaa7148626",
       "version_major": 2,
       "version_minor": 0
      },
      "text/plain": [
       "Summarize dataset:   0%|          | 0/5 [00:00<?, ?it/s]"
      ]
     },
     "metadata": {},
     "output_type": "display_data"
    },
    {
     "data": {
      "application/vnd.jupyter.widget-view+json": {
       "model_id": "aa1f00244b9b46f28d990c37c6f40961",
       "version_major": 2,
       "version_minor": 0
      },
      "text/plain": [
       "Generate report structure:   0%|          | 0/1 [00:00<?, ?it/s]"
      ]
     },
     "metadata": {},
     "output_type": "display_data"
    },
    {
     "data": {
      "application/vnd.jupyter.widget-view+json": {
       "model_id": "f98baa0fef5841019a69f8b401f526e6",
       "version_major": 2,
       "version_minor": 0
      },
      "text/plain": [
       "Render HTML:   0%|          | 0/1 [00:00<?, ?it/s]"
      ]
     },
     "metadata": {},
     "output_type": "display_data"
    },
    {
     "data": {
      "application/vnd.jupyter.widget-view+json": {
       "model_id": "e296af17c0504e7391a0ea7f71d9a228",
       "version_major": 2,
       "version_minor": 0
      },
      "text/plain": [
       "Export report to file:   0%|          | 0/1 [00:00<?, ?it/s]"
      ]
     },
     "metadata": {},
     "output_type": "display_data"
    }
   ],
   "source": [
    "import pandas as pd\n",
    "from ydata_profiling import ProfileReport\n",
    "\n",
    "# Load your dataset into a pandas DataFrame\n",
    "df = pd.read_csv('data.csv')\n",
    "\n",
    "# Create a profiling report\n",
    "profile = ProfileReport(df, title='Profiling Report')\n",
    "\n",
    "# Save the report to an HTML file\n",
    "profile.to_file('report.html')\n",
    "\n",
    "\n"
   ]
  },
  {
   "cell_type": "code",
   "execution_count": 3,
   "metadata": {},
   "outputs": [
    {
     "data": {
      "application/vnd.jupyter.widget-view+json": {
       "model_id": "7992b957267643be801c5a1d29b3acd5",
       "version_major": 2,
       "version_minor": 0
      },
      "text/plain": [
       "Render widgets:   0%|          | 0/1 [00:00<?, ?it/s]"
      ]
     },
     "metadata": {},
     "output_type": "display_data"
    },
    {
     "data": {
      "application/vnd.jupyter.widget-view+json": {
       "model_id": "78a4ee6a30d940b8833f40b558433939",
       "version_major": 2,
       "version_minor": 0
      },
      "text/plain": [
       "VBox(children=(Tab(children=(Tab(children=(GridBox(children=(VBox(children=(GridspecLayout(children=(HTML(valu…"
      ]
     },
     "metadata": {},
     "output_type": "display_data"
    }
   ],
   "source": [
    "profile.to_widgets()\n"
   ]
  },
  {
   "cell_type": "markdown",
   "metadata": {
    "id": "o7Nup7tD0-OD"
   },
   "source": [
    "## Insights"
   ]
  },
  {
   "cell_type": "markdown",
   "metadata": {
    "id": "slE4mZn11Cp7"
   },
   "source": [
    "En el conjunto de datos, las variables más fuertemente correlacionadas son salary y experience, con una correlación de 0,81. Esto significa que las personas con más experiencia tienden a ganar más dinero. Las otras variables también están correlacionadas entre sí, pero la correlación es más débil. Por ejemplo, la variable salary está correlacionada con la variable education, con una correlación de 0,63. Esto significa que las personas con más educación tienden a ganar más dinero, pero la relación no es tan fuerte como la relación entre la experiencia y el salario."
   ]
  },
  {
   "cell_type": "code",
   "execution_count": 13,
   "metadata": {
    "id": "qcnlNrodkND_"
   },
   "outputs": [
    {
     "name": "stdout",
     "output_type": "stream",
     "text": [
      "Missing values in X_train:\n",
      "work_year             False\n",
      "experience_level      False\n",
      "employment_type       False\n",
      "job_title             False\n",
      "salary_currency       False\n",
      "salary_in_usd         False\n",
      "employee_residence    False\n",
      "remote_ratio          False\n",
      "company_location      False\n",
      "company_size          False\n",
      "dtype: bool\n",
      "Missing values in y_train:\n",
      "False\n",
      "Data types of columns in X_train:\n",
      "work_year              int64\n",
      "experience_level      object\n",
      "employment_type       object\n",
      "job_title             object\n",
      "salary_currency       object\n",
      "salary_in_usd          int64\n",
      "employee_residence    object\n",
      "remote_ratio           int64\n",
      "company_location      object\n",
      "company_size          object\n",
      "dtype: object\n",
      "-17478207557.81529\n"
     ]
    }
   ],
   "source": [
    "import pandas as pd\n",
    "from sklearn.linear_model import LinearRegression\n",
    "from sklearn.model_selection import train_test_split\n",
    "\n",
    "# Load the data\n",
    "url = 'https://docs.google.com/spreadsheets/d/1M9bs_WX81o8vfXZXVJfS0o9kCEqDDEMe86McVsDkQh0/export?format=csv'\n",
    "data = pd.read_csv(url)\n",
    "\n",
    "# Convert the `salary` column to a float\n",
    "data[\"salary\"] = data[\"salary\"].astype(float)\n",
    "\n",
    "# Save the data\n",
    "data.to_csv(\"data.csv\", index=False)\n",
    "\n",
    "# Split the data into training and test sets\n",
    "X = data.drop(\"salary\", axis=1)\n",
    "y = data[\"salary\"]\n",
    "X_train, X_test, y_train, y_test = train_test_split(X, y, test_size=0.33, random_state=42)\n",
    "\n",
    "# Check for missing values in the training data\n",
    "missing_values = X_train.isnull().any()\n",
    "print(\"Missing values in X_train:\")\n",
    "print(missing_values)\n",
    "\n",
    "missing_values = y_train.isnull().any()\n",
    "print(\"Missing values in y_train:\")\n",
    "print(missing_values)\n",
    "\n",
    "# Check the data types of the columns in X_train\n",
    "print(\"Data types of columns in X_train:\")\n",
    "print(X_train.dtypes)\n",
    "\n",
    "# Apply one-hot encoding to all non-numeric columns\n",
    "X_train = pd.get_dummies(X_train)\n",
    "X_test = pd.get_dummies(X_test)\n",
    "\n",
    "# Make sure the test data has the same columns as the training data\n",
    "missing_cols = set(X_train.columns) - set(X_test.columns)\n",
    "for col in missing_cols:\n",
    "    X_test[col] = 0\n",
    "X_test = X_test[X_train.columns]\n",
    "\n",
    "# Create the model\n",
    "model = LinearRegression()\n",
    "\n",
    "# Train the model\n",
    "model.fit(X_train, y_train)\n",
    "\n",
    "# Predict the values of the test set\n",
    "y_pred = model.predict(X_test)\n",
    "\n",
    "# Evaluate the model\n",
    "print(model.score(X_test, y_test))\n"
   ]
  },
  {
   "cell_type": "code",
   "execution_count": null,
   "metadata": {},
   "outputs": [],
   "source": []
  }
 ],
 "metadata": {
  "colab": {
   "provenance": []
  },
  "kernelspec": {
   "display_name": "Python 3 (ipykernel)",
   "language": "python",
   "name": "python3"
  },
  "language_info": {
   "codemirror_mode": {
    "name": "ipython",
    "version": 3
   },
   "file_extension": ".py",
   "mimetype": "text/x-python",
   "name": "python",
   "nbconvert_exporter": "python",
   "pygments_lexer": "ipython3",
   "version": "3.11.4"
  }
 },
 "nbformat": 4,
 "nbformat_minor": 1
}
